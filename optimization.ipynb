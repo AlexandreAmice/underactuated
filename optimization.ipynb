{
 "cells": [
  {
   "cell_type": "markdown",
   "metadata": {},
   "source": [
    "Welcome!  If you are new to Google Colab/Jupyter notebooks, you might take a look at [this notebook](https://colab.research.google.com/notebooks/basic_features_overview.ipynb) first.\n",
    "\n",
    "**I recommend you run the first code cell of this notebook immediately, to start provisioning drake on the cloud machine, then you can leave this window open as you [read the textbook](http://underactuated.csail.mit.edu/optimization.html).**\n",
    "\n",
    "# Notebook Setup\n",
    "\n",
    "The following cell will:\n",
    "- on Colab (only), install Drake to `/opt/drake`, install Drake's prerequisites via `apt`, and add pydrake to `sys.path`.  This will take approximately two minutes on the first time it runs (to provision the machine), but should only need to reinstall once every 12 hours.  If you navigate between notebooks using Colab's \"File->Open\" menu, then you can avoid provisioning a separate machine for each notebook.\n",
    "- import packages used throughout the notebook.\n",
    "\n",
    "You will need to rerun this cell if you restart the kernel, but it should be fast (even on Colab) because the machine will already have drake installed."
   ]
  },
  {
   "cell_type": "code",
   "execution_count": null,
   "metadata": {},
   "outputs": [],
   "source": [
    "import importlib\n",
    "import sys\n",
    "from urllib.request import urlretrieve\n",
    "\n",
    "# Install drake (and underactuated).\n",
    "if 'google.colab' in sys.modules and importlib.util.find_spec('underactuated') is None:\n",
    "    urlretrieve(f\"http://underactuated.csail.mit.edu/scripts/setup/setup_underactuated_colab.py\",\n",
    "                \"setup_underactuated_colab.py\")\n",
    "    from setup_underactuated_colab import setup_underactuated\n",
    "    setup_underactuated(underactuated_sha='560c2adace05eb20ebd78377582015d5b2d3859a', drake_version='0.27.0', drake_build='release')\n"
   ]
  },
  {
   "cell_type": "markdown",
   "source": [
    "# SDP relaxation of non-convex quadratic constraints\n",
    "\n",
    "Consider the problem:\n",
    "\n",
    "\\begin{align*}\n",
    "\\min_x \\quad & \\| x - a \\|^2 \\\\\n",
    "\\text{subject to} \\quad & \\| x - b \\| \\ge 1\n",
    "\\end{align*}\n",
    "\n",
    "We can write this as\n",
    "\n",
    "\\begin{align*}\n",
    "\\min_{x,y} \\quad & y - 2ax + a^2 \\\\\n",
    "\\text{subject to} \\quad & y - 2bx + b^2 \\ge 1 \\\\\n",
    "& y \\ge x^2\n",
    "\\end{align*}\n",
    "\n",
    "where we write $y \\ge x^2$ as the semidefinite constraint\n",
    "$\\begin{bmatrix} y & x \\\\ x & 1 \\end{bmatrix}.$  I've plotted the feasible\n",
    "region and the objective with an arrow.  As you know, for linear\n",
    "objectives, the optimal solution will lie on the boundary only if the cost is\n",
    "directly orthogonal to the objective; otherwise it will lie at a vertex.  So in\n",
    "this case, the solution will only lie on the interior if $a = b;$ for every\n",
    "other value, this relaxation will give the optimal solution.  (Try changing $a$ to see)."
   ],
   "metadata": {
    "collapsed": false
   }
  },
  {
   "cell_type": "code",
   "execution_count": 2,
   "outputs": [
    {
     "data": {
      "text/plain": "<Figure size 432x288 with 1 Axes>",
      "image/png": "[encoded data removed]"
     },
     "metadata": {
      "needs_background": "light"
     },
     "output_type": "display_data"
    }
   ],
   "source": [
    "import matplotlib.pyplot as plt\n",
    "import numpy as np\n",
    "\n",
    "fig, ax = plt.subplots()\n",
    "a = .8\n",
    "b = .5\n",
    "x = np.linspace(-2, 2)\n",
    "plt.fill(x, np.maximum(x*x, 1 + 2*b*x - b*b), color='lightgray')\n",
    "ax.plot(x, x*x, 'k')\n",
    "ax.plot(x, 1 + 2*b*x - b*b, 'k')\n",
    "qx = 0\n",
    "qy = 3\n",
    "scale=4\n",
    "ax.quiver(qx, qy, 2*a, -1, scale=10, zorder=2, color='b')\n",
    "\n",
    "ax.set_xlim(-2, 2)\n",
    "ax.set_ylim(0, 4)\n",
    "ax.set_xlabel('x')\n",
    "ax.set_ylabel('y')\n",
    "\n",
    "from pydrake.all import MathematicalProgram, Solve\n",
    "\n",
    "prog = MathematicalProgram()\n",
    "x = prog.NewContinuousVariables(1, 'x')[0]\n",
    "y = prog.NewContinuousVariables(1, 'y')[0]\n",
    "\n",
    "prog.AddPositiveSemidefiniteConstraint(np.array([[y, x],[x, 1]]))\n",
    "prog.AddLinearConstraint(y - 2*b*x + b*b >= 1)\n",
    "prog.AddLinearCost(y - 2*a*x + a*a)\n",
    "\n",
    "result = Solve(prog)\n",
    "ax.plot(result.GetSolution(x), result.GetSolution(y), 'b*', markersize=15);"
   ],
   "metadata": {
    "collapsed": false,
    "pycharm": {
     "name": "#%%\n"
    }
   }
  },
  {
   "cell_type": "markdown",
   "metadata": {},
   "source": [
    "# Global optimization with Sums-of-Squares (the \"Six Hump Camel\")"
   ]
  },
  {
   "cell_type": "code",
   "execution_count": null,
   "metadata": {},
   "outputs": [],
   "source": [
    "import numpy as np\n",
    "from mpl_toolkits.mplot3d import Axes3D\n",
    "import matplotlib.pyplot as plt\n",
    "from pydrake.all import MathematicalProgram, Solve\n",
    "\n",
    "from underactuated.jupyter import SetupMatplotlibBackend\n",
    "plt_is_interactive = SetupMatplotlibBackend()\n",
    "\n",
    "prog = MathematicalProgram()\n",
    "v = prog.NewIndeterminates(2, \"x\")\n",
    "x = v[0]\n",
    "y = v[1]\n",
    "\n",
    "# This is the famous \"six-hump camel back function\".  It has six local\n",
    "# minima, two of them being global minima.\n",
    "p = 4 * x**2 + x * y - 4 * y**2 - 2.1 * x**4 + 4 * y**4 + x**6 / 3\n",
    "\n",
    "# Find the minimum value by adding a sums of squares constraint, via\n",
    "#   for all x, p(x) >= pmin\n",
    "# which we write as\n",
    "#   p(x) - pmin is sos.\n",
    "pmin = prog.NewContinuousVariables(1, \"pmin\")[0]\n",
    "prog.AddSosConstraint(p - pmin)\n",
    "\n",
    "# Maximize pmin.\n",
    "prog.AddCost(-pmin)\n",
    "\n",
    "result = Solve(prog)\n",
    "assert result.is_success()\n",
    "print(\"Minimum value (lower bound): \" + str(result.GetSolution(pmin)))\n",
    "\n",
    "# Now, let's plot it.\n",
    "fig = plt.figure(figsize=(10, 5))\n",
    "ax0 = fig.add_subplot(121, projection=\"3d\")\n",
    "ax1 = fig.add_subplot(122)\n",
    "xs = np.linspace(-2.2, 2.2, 51)\n",
    "ys = np.linspace(-1.2, 1.2, 51)\n",
    "[X, Y] = np.meshgrid(xs, ys)\n",
    "P = X.copy()\n",
    "for i in range(len(xs)):\n",
    "    for j in range(len(ys)):\n",
    "        P[i, j] = p.Evaluate({x: X[i, j], y: Y[i, j]})\n",
    "ax0.plot_surface(X, Y, P)\n",
    "ax1.contour(X, Y, P, 100)\n",
    "\n",
    "print(\"Minimum sampled value: \" + str(np.min(P)))"
   ]
  },
  {
   "cell_type": "code",
   "execution_count": null,
   "metadata": {},
   "outputs": [],
   "source": []
  }
 ],
 "metadata": {
  "kernelspec": {
   "display_name": "Python 3",
   "language": "python",
   "name": "python3"
  },
  "language_info": {
   "codemirror_mode": {
    "name": "ipython",
    "version": 3
   },
   "file_extension": ".py",
   "mimetype": "text/x-python",
   "name": "python",
   "nbconvert_exporter": "python",
   "pygments_lexer": "ipython3",
   "version": "3.7.7"
  }
 },
 "nbformat": 4,
 "nbformat_minor": 2
}