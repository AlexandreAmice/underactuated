{
 "cells": [
  {
   "cell_type": "markdown",
   "metadata": {},
   "source": [
    "Welcome!  If you are new to Google Colab/Jupyter notebooks, you might take a look at [this notebook](https://colab.research.google.com/notebooks/basic_features_overview.ipynb) first.\n",
    "\n",
    "**I recommend you run the first code cell of this notebook immediately, to start provisioning drake on the cloud machine, then you can leave this window open as you [read the textbook](http://underactuated.csail.mit.edu/simle_legs.html).**\n",
    "\n",
    "# Notebook Setup\n",
    "\n",
    "The following cell will:\n",
    "- on Colab (only), install Drake to `/opt/drake`, install Drake's prerequisites via `apt`, and add pydrake to `sys.path`.  This will take approximately two minutes on the first time it runs (to provision the machine), but should only need to reinstall once every 12 hours.  If you navigate between notebooks using Colab's \"File->Open\" menu, then you can avoid provisioning a separate machine for each notebook.\n",
    "- import packages used throughout the notebook.\n",
    "\n",
    "You will need to rerun this cell if you restart the kernel, but it should be fast (even on Colab) because the machine will already have drake installed."
   ]
  },
  {
   "cell_type": "code",
   "execution_count": null,
   "metadata": {},
   "outputs": [],
   "source": [
    "import importlib\n",
    "import sys\n",
    "from urllib.request import urlretrieve\n",
    "\n",
    "# Install drake (and underactuated).\n",
    "if 'google.colab' in sys.modules and importlib.util.find_spec('underactuated') is None:\n",
    "    urlretrieve(f\"http://underactuated.csail.mit.edu/scripts/setup/setup_underactuated_colab.py\",\n",
    "                \"setup_underactuated_colab.py\")\n",
    "    from setup_underactuated_colab import setup_underactuated\n",
    "    setup_underactuated(underactuated_sha='15cfd96b0bdfd1b0c67597c24f91907776c02a6d', drake_version='0.27.0', drake_build='release')\n",
    "\n",
    "server_args = []\n",
    "if 'google.colab' in sys.modules:\n",
    "  server_args = ['--ngrok_http_tunnel']\n",
    "\n",
    "from meshcat.servers.zmqserver import start_zmq_server_as_subprocess\n",
    "proc, zmq_url, web_url = start_zmq_server_as_subprocess(server_args=server_args)\n",
    "\n",
    "import numpy as np\n",
    "from underactuated.jupyter import running_as_notebook"
   ]
  },
  {
   "cell_type": "markdown",
   "metadata": {},
   "source": [
    "# The Rimless Wheel"
   ]
  },
  {
   "cell_type": "code",
   "execution_count": null,
   "metadata": {},
   "outputs": [],
   "source": [
    "from pydrake.all import (DiagramBuilder, ConnectPlanarSceneGraphVisualizer,\n",
    "                         ConnectMeshcatVisualizer,\n",
    "                         SceneGraph, Simulator)\n",
    "from pydrake.examples.rimless_wheel import (RimlessWheel, RimlessWheelGeometry,\n",
    "                                            RimlessWheelParams)\n",
    "\n",
    "def rimless_wheel(slope=0.08, initial_angle=0, initial_angular_velocity=5.0):\n",
    "  params = RimlessWheelParams()\n",
    "  params.set_slope(slope)\n",
    "\n",
    "  builder = DiagramBuilder()\n",
    "  rimless_wheel = builder.AddSystem(RimlessWheel())\n",
    "  scene_graph = builder.AddSystem(SceneGraph())\n",
    "  RimlessWheelGeometry.AddToBuilder(\n",
    "      builder, rimless_wheel.get_floating_base_state_output_port(), params,\n",
    "      scene_graph)\n",
    "  visualizer = ConnectMeshcatVisualizer(builder, scene_graph, zmq_url=zmq_url)\n",
    "  visualizer.set_planar_viewpoint(xmin=-2, xmax=14, ymin=-2, ymax=3)\n",
    "\n",
    "  diagram = builder.Build()\n",
    "  simulator = Simulator(diagram)\n",
    "\n",
    "  context = simulator.get_mutable_context()\n",
    "\n",
    "  diagram.GetMutableSubsystemContext(\n",
    "      rimless_wheel, context).get_numeric_parameter(0).set_slope(slope)\n",
    "  context.SetAccuracy(1e-4)\n",
    "  context.SetContinuousState([initial_angle, initial_angular_velocity])\n",
    "  simulator.Initialize()\n",
    "  simulator.set_target_realtime_rate(1.0)\n",
    "  simulator.AdvanceTo(5.0 if running_as_notebook else 0.1)\n",
    "\n",
    "rimless_wheel()"
   ]
  },
  {
   "cell_type": "code",
   "execution_count": null,
   "metadata": {},
   "outputs": [],
   "source": [
    "rimless_wheel(initial_angular_velocity=5.0)"
   ]
  },
  {
   "cell_type": "code",
   "execution_count": null,
   "metadata": {},
   "outputs": [],
   "source": [
    "rimless_wheel(initial_angular_velocity=10.0)"
   ]
  },
  {
   "cell_type": "code",
   "execution_count": null,
   "metadata": {},
   "outputs": [],
   "source": [
    "rimless_wheel(initial_angular_velocity=0.95)"
   ]
  },
  {
   "cell_type": "code",
   "execution_count": null,
   "metadata": {},
   "outputs": [],
   "source": [
    "rimless_wheel(initial_angular_velocity=-5.0)"
   ]
  },
  {
   "cell_type": "code",
   "execution_count": null,
   "metadata": {},
   "outputs": [],
   "source": [
    "rimless_wheel(initial_angular_velocity=-4.8)"
   ]
  },
  {
   "cell_type": "markdown",
   "metadata": {},
   "source": [
    "Here is a little interactive plot to allow you to visualize the trajectories of the rimless wheel as you vary the initial velocity.\n",
    "\n",
    "TODO: Need to update this to make it work on colab."
   ]
  },
  {
   "cell_type": "code",
   "execution_count": null,
   "metadata": {},
   "outputs": [],
   "source": [
    "import numpy as np\n",
    "import matplotlib.pyplot as plt\n",
    "from ipywidgets import interact, widgets\n",
    "\n",
    "from underactuated.jupyter import SetupMatplotlibBackend\n",
    "plt_is_interactive = SetupMatplotlibBackend()\n",
    "\n",
    "from pydrake.all import Simulator\n",
    "from pydrake.examples.rimless_wheel import RimlessWheel\n",
    "\n",
    "rimless_wheel = RimlessWheel()\n",
    "simulator = Simulator(rimless_wheel)\n",
    "context = simulator.get_mutable_context()\n",
    "params = context.get_numeric_parameter(0)\n",
    "qmin = params.slope() - rimless_wheel.calc_alpha(params) - 0.1\n",
    "qmax = params.slope() + rimless_wheel.calc_alpha(params) + 0.1\n",
    "qdmin = -2\n",
    "qdmax = 2\n",
    "\n",
    "context.SetAccuracy(1e-2)\n",
    "integrator = simulator.get_mutable_integrator()\n",
    "\n",
    "fig, ax = plt.subplots()\n",
    "\n",
    "# TODO(russt): make the slope interactive, too.\n",
    "def simulate(initial_angular_velocity=1.5, duration=1.5):\n",
    "    rimless_wheel.SetDefaultContext(context)\n",
    "    context.SetTime(0.0)\n",
    "    if initial_angular_velocity >= 0:\n",
    "        initial_angle = params.slope() - rimless_wheel.calc_alpha(params)\n",
    "    else:\n",
    "        initial_angle = params.slope() + rimless_wheel.calc_alpha(params)\n",
    "    if initial_angular_velocity == 0:\n",
    "        # Set double_support = True.\n",
    "        context.get_mutable_abstract_state(0).set_value(True)\n",
    "        \n",
    "    context.SetContinuousState([initial_angle, initial_angular_velocity])\n",
    "\n",
    "    integrator.StartDenseIntegration()\n",
    "    simulator.Initialize()\n",
    "    simulator.AdvanceTo(duration)\n",
    "    pp = integrator.StopDenseIntegration()\n",
    "\n",
    "    return pp.vector_values(pp.get_segment_times())\n",
    "\n",
    "if plt_is_interactive:\n",
    "    data = simulate()\n",
    "    line, = ax.plot(data[0,:], data[1,:],'b')\n",
    "    pt, = ax.plot(data[0,0], data[1,0],'b*', markersize=12)\n",
    "    \n",
    "    def update(initial_angular_velocity):\n",
    "        data = simulate(initial_angular_velocity)\n",
    "        line.set_xdata(data[0,:])\n",
    "        line.set_ydata(data[1,:])\n",
    "        pt.set_xdata(data[0,0])\n",
    "        pt.set_ydata(data[1,0])\n",
    "        fig.canvas.draw()\n",
    "    \n",
    "    interact(update, initial_angular_velocity=widgets.FloatSlider(min=qdmin, max=qdmax, step=.1, value=1.1))\n",
    "\n",
    "else:\n",
    "    data = simulate()\n",
    "    ax.plot(data[0,:], data[1,:],'b')\n",
    "    ax.plot(data[0,0], data[1,0],'b*', markersize=12)\n",
    "\n",
    "# Plot the energy contours.\n",
    "nq = 151\n",
    "nqd = 151\n",
    "mgl = params.mass() * params.gravity() * params.length()\n",
    "q = np.linspace(qmin, qmax, nq)\n",
    "qd = np.linspace(qdmin, qdmax, nqd)\n",
    "Q, QD = np.meshgrid(q, qd)\n",
    "Energy = .5 * params.mass() * params.length()**2 * QD**2 + mgl * np.cos(Q)\n",
    "ax.contour(Q,\n",
    "           QD,\n",
    "           Energy,\n",
    "           alpha=0.5,\n",
    "           linestyles=\"dashed\",\n",
    "           colors=\"black\",\n",
    "           linewidths=0.5)\n",
    "\n",
    "ax.plot(params.slope() - rimless_wheel.calc_alpha(params)*np.array([1, 1]), np.array([0, qdmax]), 'k--')\n",
    "ax.plot(params.slope() - rimless_wheel.calc_alpha(params)*np.array([1, 1]), np.array([0, qdmin]), 'k', linewidth=.25)\n",
    "ax.plot(params.slope() + rimless_wheel.calc_alpha(params)*np.array([1, 1]), np.array([0, qdmin]), 'k--')\n",
    "ax.plot(params.slope() + rimless_wheel.calc_alpha(params)*np.array([1, 1]), np.array([0, qdmax]), 'k', linewidth=.25)\n",
    "ax.plot([qmin, qmax], [0, 0], 'k', linewidth=.25)\n",
    "ax.plot([0, 0], [qdmin, qdmax], 'k', linewidth=.25)\n",
    "ax.set_xlabel(\"theta\")\n",
    "ax.set_ylabel(\"thetadot\")\n",
    "ax.axis([qmin, qmax, qdmin, qdmax])\n",
    "ax.set_title(\"Trajectories of the Rimless Wheel (w/ contours of \"\n",
    "             \"constant energy)\");"
   ]
  },
  {
   "cell_type": "markdown",
   "metadata": {},
   "source": [
    "# The Compass Gait"
   ]
  },
  {
   "cell_type": "code",
   "execution_count": null,
   "metadata": {},
   "outputs": [],
   "source": [
    "import numpy as np\n",
    "import matplotlib.pyplot as plt\n",
    "\n",
    "from pydrake.all import (ConstantVectorSource, DiagramBuilder,\n",
    "                         ConnectMeshcatVisualizer, SceneGraph, SignalLogger,\n",
    "                         Simulator)\n",
    "from pydrake.examples.compass_gait import (CompassGait, CompassGaitGeometry,\n",
    "                                           CompassGaitParams)\n",
    "\n",
    "def compass_gait():\n",
    "    builder = DiagramBuilder()\n",
    "    compass_gait = builder.AddSystem(CompassGait())\n",
    "\n",
    "    hip_torque = builder.AddSystem(ConstantVectorSource([0.0]))\n",
    "    builder.Connect(hip_torque.get_output_port(0), compass_gait.get_input_port(0))\n",
    "\n",
    "    scene_graph = builder.AddSystem(SceneGraph())\n",
    "    CompassGaitGeometry.AddToBuilder(\n",
    "        builder, compass_gait.get_floating_base_state_output_port(), scene_graph)\n",
    "    visualizer = ConnectMeshcatVisualizer(builder, scene_graph, zmq_url=zmq_url)\n",
    "    visualizer.set_planar_viewpoint(xmin=-1, xmax=5, ymin=-1, ymax=2)\n",
    "\n",
    "    logger = builder.AddSystem(SignalLogger(14))\n",
    "    builder.Connect(compass_gait.get_output_port(1), logger.get_input_port(0))\n",
    "\n",
    "    diagram = builder.Build()\n",
    "    simulator = Simulator(diagram)\n",
    "    simulator.set_target_realtime_rate(1.0)\n",
    "\n",
    "    context = simulator.get_mutable_context()\n",
    "    context.SetAccuracy(1e-4)\n",
    "    context.SetContinuousState([0., 0., 0.4, -2.])\n",
    "\n",
    "    simulator.AdvanceTo(8.0)\n",
    "    return logger\n",
    "\n",
    "logger = compass_gait()"
   ]
  },
  {
   "cell_type": "code",
   "execution_count": null,
   "metadata": {},
   "outputs": [],
   "source": [
    "plt.figure()\n",
    "plt.plot(logger.data()[4, :], logger.data()[11, :])\n",
    "plt.xlabel(\"left leg angle\")\n",
    "plt.ylabel(\"left leg angular velocity\");"
   ]
  },
  {
   "cell_type": "code",
   "execution_count": null,
   "metadata": {},
   "outputs": [],
   "source": []
  }
 ],
 "metadata": {
  "kernelspec": {
   "display_name": "Python 3",
   "language": "python",
   "name": "python3"
  },
  "language_info": {
   "codemirror_mode": {
    "name": "ipython",
    "version": 3
   },
   "file_extension": ".py",
   "mimetype": "text/x-python",
   "name": "python",
   "nbconvert_exporter": "python",
   "pygments_lexer": "ipython3",
   "version": "3.6.9"
  }
 },
 "nbformat": 4,
 "nbformat_minor": 4
}