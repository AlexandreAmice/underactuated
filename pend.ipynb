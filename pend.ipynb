{
 "cells": [
  {
   "cell_type": "markdown",
   "metadata": {
    "id": "TKvYiJgnYExi"
   },
   "source": [
    "This notebook provides examples to go along with the [textbook](http://underactuated.csail.mit.edu/pend.html).  I recommend having both windows open, side-by-side!\n",
    "\n",
    "[Click here](http://underactuated.csail.mit.edu/drake.html#notebooks) for instructions on how to run the notebook on Deepnote and/or Google Colab."
   ]
  },
  {
   "cell_type": "code",
   "execution_count": null,
   "metadata": {
    "id": "A4QOaw_zYLfI"
   },
   "outputs": [],
   "source": [
    "from copy import copy\n",
    "\n",
    "import matplotlib.pyplot as plt\n",
    "import mpld3\n",
    "import numpy as np\n",
    "from IPython.display import display\n",
    "from pydrake.all import (DiagramBuilder, Linearize, LinearQuadraticRegulator,\n",
    "                         MeshcatVisualizerCpp, Saturation, SceneGraph,\n",
    "                         Simulator, StartMeshcat, SymbolicVectorSystem,\n",
    "                         Variable, VectorLogSink, VectorSystem, wrap_to)\n",
    "from pydrake.examples.pendulum import (PendulumGeometry, PendulumParams,\n",
    "                                       PendulumPlant)\n",
    "\n",
    "from underactuated import running_as_notebook, plot_2d_phase_portrait\n",
    "from underactuated.meshcat_cpp_utils import MeshcatSliders, interact\n",
    "\n",
    "if running_as_notebook:\n",
    "    mpld3.enable_notebook()\n"
   ]
  },
  {
   "cell_type": "code",
   "execution_count": null,
   "metadata": {},
   "outputs": [],
   "source": [
    "# Start the visualizer (run this cell only once, each instance consumes a port)\n",
    "meshcat = StartMeshcat()"
   ]
  },
  {
   "cell_type": "markdown",
   "metadata": {
    "id": "C1sdq2R88C16"
   },
   "source": [
    "# Dynamics of the Simple Pendulum\n",
    "\n",
    "I find it extremely useful to use simulation to get physical intuition about these systems.  Let's make sure we understand how the simple pendulum moves when it is exposed to a torque.\n",
    "\n",
    "For the duration of this notebook, we'll use the equations of motion $$ml^2 \\ddot\\theta + b\\dot\\theta + mgl \\sin\\theta = u,$$ where $u$ is our torque input.\n",
    "\n",
    "## Basic simulation\n",
    "\n",
    "The pendulum is a core example in Drake.  We could certainly load it from a .urdf file, but Drake offers a Pendulum implementation that makes it convenient to manipulate the parameters (and visualize the system with different parameters)."
   ]
  },
  {
   "cell_type": "code",
   "execution_count": null,
   "metadata": {
    "id": "8wj7ZlyEw_AB"
   },
   "outputs": [],
   "source": [
    "def pendulum_simulation():\n",
    "    builder = DiagramBuilder()\n",
    "    pendulum = builder.AddSystem(PendulumPlant())\n",
    "\n",
    "    # Setup visualization\n",
    "    scene_graph = builder.AddSystem(SceneGraph())\n",
    "    PendulumGeometry.AddToBuilder(builder, pendulum.get_state_output_port(),\n",
    "                                  scene_graph)\n",
    "    MeshcatVisualizerCpp.AddToBuilder(builder, scene_graph,\n",
    "                                                   meshcat)\n",
    "    meshcat.Delete()\n",
    "    meshcat.Set2dRenderMode()\n",
    "\n",
    "    # Setup slider input\n",
    "    meshcat.AddSlider('u', min=-5, max=5, step=.1, value=0.0)\n",
    "    torque_system = builder.AddSystem(MeshcatSliders(meshcat,['u']))\n",
    "    builder.Connect(torque_system.get_output_port(), pendulum.get_input_port())\n",
    "\n",
    "    diagram = builder.Build()\n",
    "\n",
    "    # Set up a simulator to run this diagram\n",
    "    simulator = Simulator(diagram)\n",
    "    context = simulator.get_mutable_context()\n",
    "\n",
    "    meshcat.AddButton('Stop Simulation')\n",
    "\n",
    "    # Set the initial conditions\n",
    "    context.SetContinuousState([0.5, 0]) # theta, thetadot\n",
    "\n",
    "    if running_as_notebook:  # Then we're not just running as a test on CI.\n",
    "        simulator.set_target_realtime_rate(1.0)\n",
    "\n",
    "        print('Use the slider in the MeshCat controls to apply elbow torque.')\n",
    "        print(\"Press 'Stop Simulation' in MeshCat to continue.\")\n",
    "        while meshcat.GetButtonClicks('Stop Simulation') < 1:\n",
    "            simulator.AdvanceTo(simulator.get_context().get_time() + 1.0)\n",
    "    else:\n",
    "        simulator.AdvanceTo(0.1)\n",
    "\n",
    "    meshcat.DeleteAddedControls()\n",
    "\n",
    "pendulum_simulation()"
   ]
  },
  {
   "cell_type": "markdown",
   "metadata": {
    "id": "aNHdvSloKUSn"
   },
   "source": [
    "After running the cell above, you should use the \"Open Controls\" panel in meshcat to see the interactive slider that will control the torque.  Press the \"Stop Simulation\" button to regain control and continue in the notebook."
   ]
  },
  {
   "cell_type": "markdown",
   "metadata": {
    "id": "zKmlDpfeKUSo"
   },
   "source": [
    "# Autapse\n",
    "\n",
    "The simplest recurrent neural network model.  $$\\dot{x} = -x + \\tanh(wx + u)$$"
   ]
  },
  {
   "cell_type": "code",
   "execution_count": null,
   "metadata": {
    "id": "ftbxk7ddKUSo"
   },
   "outputs": [],
   "source": [
    "\n",
    "def autapse(x, w=1, u=0):\n",
    "    \"\"\"Args:\n",
    "    w is feedback weight\n",
    "    u is input\n",
    "    \"\"\"\n",
    "    return -x + np.tanh(w * x + u)\n",
    "\n",
    "\n",
    "Autapse = np.vectorize(autapse)\n",
    "xmax = 2.\n",
    "ymax = 1.\n",
    "x = np.arange(-xmax, xmax, 0.01)\n",
    "\n",
    "meshcat.Delete()\n",
    "meshcat.Set2dRenderMode(xmax=xmax, xmin=-xmax, ymin=-ymax, ymax=ymax)\n",
    "meshcat.SetProperty('/Grid', 'visible', True)\n",
    "meshcat.SetProperty('/Axes', 'visible', True)\n",
    "\n",
    "def update(w=1, u=0):\n",
    "    meshcat.SetLine(\"autapse\", np.vstack([x,0*x, Autapse(x, w=w, u=u)]))\n",
    "\n",
    "interact(meshcat, update, w=(0,3,0.1), u=(-1.5,1.5,0.1))"
   ]
  },
  {
   "cell_type": "markdown",
   "metadata": {
    "id": "0z4i5CF5KUSp"
   },
   "source": [
    "# Long short-term memory (LSTM)\n",
    "\n",
    "A recurrent neural network component..  [Wikipedia](https://en.wikipedia.org/wiki/Long_short-term_memory)\n",
    "\n",
    "We'll look at the [\"gated recurrent unit\" version](https://colah.github.io/posts/2015-08-Understanding-LSTMs/)...\n",
    "\\begin{align}\n",
    "i[n] &= \\sigma_g(A_{i} x[n] + B_{i} u[n] + c_i) & \\text{input gate} \\\\\n",
    "o[n] &= \\sigma_g(A_{o} x[n] + B_{o} u[n] + c_o) & \\text{output gate} \\\\\n",
    "f[n] &= \\sigma_g(A_{f} x[n] + B_{f} u[n] + c_f) & \\text{forget gate} \\\\\n",
    "x[n+1] &= f[n] \\circ x[n] + i[n] \\circ \\tanh(B_{x} u[n] + c_c) \\\\\n",
    "y[n] &= \\tanh(o[n] \\circ x[n])\n",
    "\\end{align}\n",
    "\n",
    "where the operator $\\circ$  denotes the Hadamard product (element-wise product). $\\sigma _{g}(x) = \\frac{1}{1+e^{-x}} \\in (0,1)$ is the sigmoid function and recall that $\\tanh(x) \\in (-1,1)$.\n",
    "\n",
    "In the example below, we will plot the continuous-time version of this (to stay consistent with the rest of the analysis in the chapter), $\\dot{x}$ vs $x$.  To keep the number of parameters reasonable, I've assumed that there are three inputs -- with $$u = \\begin{bmatrix} u_{input} \\\\ u_{forget} \\\\ u_{x} \\end{bmatrix}, B_i = [ 1, 0 0 ], B_f = [ 0, 1, 0 ], B_x = [ 0, 0, 1].$$ Note that the output $y$ has no impact on the stability and is not represented below.\n"
   ]
  },
  {
   "cell_type": "code",
   "execution_count": null,
   "metadata": {
    "id": "LIiZe1mFKUSq"
   },
   "outputs": [],
   "source": [
    "\n",
    "def sigma(x):\n",
    "  return 1./(1+np.exp(-x))\n",
    "\n",
    "def lstm(x, uf=0, ui=0, ux=0, af=1, bf=1, cf=0, ai=1, bi=1, ci=0, bx=1, cx=0):\n",
    "  return - x + sigma(af*x + bf*uf + cf)*x + sigma(ai*x + bi*ui + ci) * np.tanh(bx*ux+cx)\n",
    "\n",
    "Lstm = np.vectorize(lstm)\n",
    "xmax = 10.\n",
    "ymax = 4.\n",
    "x = np.arange(-xmax, xmax, 0.01)\n",
    "\n",
    "meshcat.Delete()\n",
    "meshcat.Set2dRenderMode(xmax=xmax, xmin=-xmax, ymin=-ymax, ymax=ymax)\n",
    "meshcat.SetProperty('/Grid', 'visible', True)\n",
    "meshcat.SetProperty('/Axes', 'visible', True)\n",
    "\n",
    "def update(u_forget, u_input, u_x,\n",
    "         a_forget, b_forget, c_forget,\n",
    "         a_input, b_input, c_input,\n",
    "         b_x, c_x):\n",
    "    vertices = np.vstack([x,0*x, Lstm(x,\n",
    "                    uf=u_forget, ui=u_input, ux=u_x,\n",
    "                    af=a_forget, bf=b_forget, cf=c_forget,\n",
    "                    ai=a_input, bi=b_input, ci=c_input,\n",
    "                    bx=b_x, cx=c_x)])\n",
    "    meshcat.SetLine(\"lstm\", vertices)\n",
    "\n",
    "interact(meshcat, update,\n",
    "       u_forget=(-10,10,0.1),\n",
    "       u_input=(-10,10,0.1),\n",
    "       u_x=(-10,10,0.1),\n",
    "       a_forget=(0,2,0.1),\n",
    "       b_forget=(0,2,0.1),\n",
    "       c_forget=(-1,1,.1),\n",
    "       a_input=(0,2,0.1),\n",
    "       b_input=(0,2,0.1),\n",
    "       c_input=(-1,1,.1),\n",
    "       b_x=(0,2,0.1),\n",
    "       c_x=(-1,1,.1),\n",
    "      )"
   ]
  },
  {
   "cell_type": "markdown",
   "metadata": {
    "id": "CvoRbIK1KUSq"
   },
   "source": [
    "I will make a few observations.  First, I'll admit that the behavior here looks pretty strange to me!  When \"forget gate\" is on (corresponding to a large negative input $u_{forget}$) and the \"input gate\" is off (corresponding to a large negative input $u_{input}$), the system has a stable fixed point close to zero.  When the forget gate is off (large $u_{forget}$ -- yes, it feels backwards to me, too) then the system becomes an integrator which will accumulate the input $u_x$.  Yes -- it's unstable!  And no, it's not an artifact of the continuous-time implementation.  The total output of the system is limited by the output $\\tanh$, but the internal state is unstable.\n",
    "\n",
    "The design of these units does not appear to have been made by someone who knew dynamics (nor graphical analysis). That they seem to work somewhat well in practice is fairly remarkable to me.  Shouldn't we be able to do better?\n",
    "\n",
    "Note: The parameter space here is large and the interpretations subtle.  If you find a better parameter regime and/or different interpretation, then I'd love to hear about it."
   ]
  },
  {
   "cell_type": "markdown",
   "metadata": {
    "id": "DZ2m35mEKUSr"
   },
   "source": [
    "# Energy Shaping Controller\n",
    "\n",
    "First we will design the energy shaping controller (only), and plot the closed-loop phase portrait.  Remember, this system is not actually stable at the upright.  It is only attractive!"
   ]
  },
  {
   "cell_type": "code",
   "execution_count": null,
   "metadata": {
    "tags": []
   },
   "outputs": [],
   "source": [
    "class EnergyShapingController(VectorSystem):\n",
    "\n",
    "    def __init__(self, pendulum):\n",
    "        VectorSystem.__init__(self, 2, 1)\n",
    "        self.pendulum = pendulum\n",
    "        self.pendulum_context = pendulum.CreateDefaultContext()\n",
    "        self.SetPendulumParams(PendulumParams())\n",
    "\n",
    "    def SetPendulumParams(self, params):\n",
    "        self.pendulum_context.get_mutable_numeric_parameter(0).SetFromVector(\n",
    "            params.CopyToVector())\n",
    "        self.pendulum_context.SetContinuousState([np.pi, 0])\n",
    "        self.desired_energy = self.pendulum.EvalPotentialEnergy(\n",
    "            self.pendulum_context)\n",
    "\n",
    "    def DoCalcVectorOutput(self, context, pendulum_state, unused, output):\n",
    "        self.pendulum_context.SetContinuousState(pendulum_state)\n",
    "        params = self.pendulum_context.get_numeric_parameter(0)\n",
    "        theta = pendulum_state[0]\n",
    "        thetadot = pendulum_state[1]\n",
    "        total_energy = self.pendulum.EvalPotentialEnergy(\n",
    "            self.pendulum_context) + self.pendulum.EvalKineticEnergy(\n",
    "                self.pendulum_context)\n",
    "        output[:] = (params.damping() * thetadot - .1 * thetadot *\n",
    "                     (total_energy - self.desired_energy))\n",
    "\n",
    "\n",
    "def PhasePlot(pendulum):\n",
    "    phase_plot = plt.figure()\n",
    "    ax = phase_plot.gca()\n",
    "    theta_lim = [-np.pi, 3. * np.pi]\n",
    "    ax.set_xlim(theta_lim)\n",
    "    ax.set_ylim(-10., 10.)\n",
    "\n",
    "    theta = np.linspace(theta_lim[0], theta_lim[1], 601)  # 4*k + 1\n",
    "    thetadot = np.zeros(theta.shape)\n",
    "    context = pendulum.CreateDefaultContext()\n",
    "    params = context.get_numeric_parameter(0)\n",
    "    context.SetContinuousState([np.pi, 0])\n",
    "    E_upright = pendulum.EvalPotentialEnergy(context)\n",
    "    E = [E_upright, .1 * E_upright, 1.5 * E_upright]\n",
    "    for e in E:\n",
    "        for i in range(theta.size):\n",
    "            v = ((e + params.mass() * params.gravity() * params.length() *\n",
    "                  np.cos(theta[i])) /\n",
    "                 (.5 * params.mass() * params.length() * params.length()))\n",
    "            if (v >= 0):\n",
    "                thetadot[i] = np.sqrt(v)\n",
    "            else:\n",
    "                thetadot[i] = float(\"nan\")\n",
    "        ax.plot(theta, thetadot, color=[.6, .6, .6])\n",
    "        ax.plot(theta, -thetadot, color=[.6, .6, .6])\n",
    "\n",
    "    return ax\n",
    "\n",
    "\n",
    "def energy_shaping_demo():\n",
    "    builder = DiagramBuilder()\n",
    "\n",
    "    pendulum = builder.AddSystem(PendulumPlant())\n",
    "    ax = PhasePlot(pendulum)\n",
    "    saturation = builder.AddSystem(Saturation(min_value=[-3], max_value=[3]))\n",
    "    builder.Connect(saturation.get_output_port(0), pendulum.get_input_port(0))\n",
    "    controller = builder.AddSystem(EnergyShapingController(pendulum))\n",
    "    builder.Connect(pendulum.get_output_port(0), controller.get_input_port(0))\n",
    "    builder.Connect(controller.get_output_port(0), saturation.get_input_port(0))\n",
    "\n",
    "    logger = builder.AddSystem(VectorLogSink(2))\n",
    "    builder.Connect(pendulum.get_output_port(0), logger.get_input_port(0))\n",
    "\n",
    "    diagram = builder.Build()\n",
    "    simulator = Simulator(diagram)\n",
    "    context = simulator.get_mutable_context()\n",
    "\n",
    "    for i in range(5):\n",
    "        context.SetTime(0.)\n",
    "        context.SetContinuousState(np.random.randn(2,))\n",
    "        simulator.Initialize()\n",
    "        simulator.AdvanceTo(4)\n",
    "        log = logger.FindLog(context)\n",
    "        ax.plot(log.data()[0, :], log.data()[1, :])\n",
    "        log.Clear()\n",
    "\n",
    "    display(mpld3.display())  \n",
    "\n",
    "energy_shaping_demo()"
   ]
  },
  {
   "cell_type": "markdown",
   "metadata": {},
   "source": [
    "## Swing-up and balance\n",
    "\n",
    "Now we will combine our simple energy shaping controller with a linear controller that stabilizes the upright fixed point once we get close enough.  We'll read more about this approach in the Acrobot and Cart-Pole notes."
   ]
  },
  {
   "cell_type": "code",
   "execution_count": null,
   "metadata": {},
   "outputs": [],
   "source": [
    "def BalancingLQR(pendulum):\n",
    "    context = pendulum.CreateDefaultContext()\n",
    "\n",
    "    pendulum.get_input_port(0).FixValue(context, [0])\n",
    "    context.SetContinuousState([np.pi, 0])\n",
    "\n",
    "    Q = np.diag((10., 1.))\n",
    "    R = [1]\n",
    "\n",
    "    linearized_pendulum = Linearize(pendulum, context)\n",
    "    (K, S) = LinearQuadraticRegulator(linearized_pendulum.A(),\n",
    "                                      linearized_pendulum.B(), Q, R)\n",
    "    return (K, S)\n",
    "\n",
    "\n",
    "class SwingUpAndBalanceController(VectorSystem):\n",
    "\n",
    "    def __init__(self, pendulum):\n",
    "        VectorSystem.__init__(self, 2, 1)\n",
    "        (self.K, self.S) = BalancingLQR(pendulum)\n",
    "        self.energy_shaping = EnergyShapingController(pendulum)\n",
    "        self.energy_shaping_context = self.energy_shaping.CreateDefaultContext()\n",
    "\n",
    "        # TODO(russt): Add a witness function to tell the simulator about the\n",
    "        # discontinuity when switching to LQR.\n",
    "\n",
    "    def DoCalcVectorOutput(self, context, pendulum_state, unused, output):\n",
    "        xbar = copy(pendulum_state)\n",
    "        xbar[0] = wrap_to(xbar[0], 0, 2. * np.pi) - np.pi\n",
    "\n",
    "        # If x'Sx <= 2, then use the LQR controller\n",
    "        if (xbar.dot(self.S.dot(xbar)) < 2.):\n",
    "            output[:] = -self.K.dot(xbar)\n",
    "        else:\n",
    "            self.energy_shaping.get_input_port(0).FixValue(self.energy_shaping_context, pendulum_state)\n",
    "            output[:] = self.energy_shaping.get_output_port(0).Eval(self.energy_shaping_context)\n",
    "\n",
    "def swing_up_and_balance_demo():\n",
    "    builder = DiagramBuilder()\n",
    "\n",
    "    pendulum = builder.AddSystem(PendulumPlant())\n",
    "    ax = PhasePlot(pendulum)\n",
    "    saturation = builder.AddSystem(Saturation(min_value=[-3], max_value=[3]))\n",
    "    builder.Connect(saturation.get_output_port(0), pendulum.get_input_port(0))\n",
    "    controller = builder.AddSystem(SwingUpAndBalanceController(pendulum))\n",
    "    builder.Connect(pendulum.get_output_port(0), controller.get_input_port(0))\n",
    "    builder.Connect(controller.get_output_port(0), saturation.get_input_port(0))\n",
    "\n",
    "    logger = builder.AddSystem(VectorLogSink(2))\n",
    "    builder.Connect(pendulum.get_output_port(0), logger.get_input_port(0))\n",
    "\n",
    "    diagram = builder.Build()\n",
    "    simulator = Simulator(diagram)\n",
    "    context = simulator.get_mutable_context()\n",
    "\n",
    "    for i in range(5):\n",
    "        context.SetTime(0.)\n",
    "        context.SetContinuousState(np.random.randn(2,))\n",
    "        simulator.Initialize()\n",
    "        simulator.AdvanceTo(4)\n",
    "        log = logger.FindLog(context)\n",
    "        ax.plot(log.data()[0, :], log.data()[1, :])\n",
    "        log.Clear()\n",
    "\n",
    "    ax.set_xlim(np.pi - 3., np.pi + 3.)\n",
    "    ax.set_ylim(-5., 5.)\n",
    "    display(mpld3.display())\n",
    "\n",
    "swing_up_and_balance_demo()"
   ]
  },
  {
   "cell_type": "markdown",
   "metadata": {},
   "source": [
    "# Attractivity without stability\n",
    "\n",
    "The fixed point at the origin of the system \n",
    "$$\\begin{aligned} \\dot{x} &= x^2 - y^2 \\\\ \\dot{y} &= 2xy \\end{aligned}$$\n",
    "is attractive, but not stable."
   ]
  },
  {
   "cell_type": "code",
   "execution_count": null,
   "metadata": {},
   "outputs": [],
   "source": [
    "def dynamics(x):\n",
    "    return x[0]**2 - x[1]**2, 2*x[0]*x[1]\n",
    "\n",
    "plot_2d_phase_portrait(dynamics, x1lim=(-1.5, 1.5), x2lim=(-1.5, 1.5))"
   ]
  },
  {
   "cell_type": "code",
   "execution_count": null,
   "metadata": {},
   "outputs": [],
   "source": []
  }
 ],
 "metadata": {
  "colab": {
   "collapsed_sections": [],
   "name": "Underactuated Robotics - The Simple Pendulum.ipynb",
   "provenance": [],
   "toc_visible": true
  },
  "kernelspec": {
   "display_name": "Python 3",
   "language": "python",
   "name": "python3"
  },
  "language_info": {
   "codemirror_mode": {
    "name": "ipython",
    "version": 3
   },
   "file_extension": ".py",
   "mimetype": "text/x-python",
   "name": "python",
   "nbconvert_exporter": "python",
   "pygments_lexer": "ipython3",
   "version": "3.9.10"
  }
 },
 "nbformat": 4,
 "nbformat_minor": 0
}
